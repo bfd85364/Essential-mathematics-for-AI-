{
 "cells": [
  {
   "cell_type": "code",
   "execution_count": 17,
   "id": "c3faac61-6f3f-4070-98fc-76c7f1b0bd5e",
   "metadata": {},
   "outputs": [
    {
     "name": "stdout",
     "output_type": "stream",
     "text": [
      "Requirement already satisfied: numpy in c:\\users\\user\\anaconda3\\lib\\site-packages (1.26.4)\n"
     ]
    }
   ],
   "source": [
    "!pip install numpy"
   ]
  },
  {
   "cell_type": "code",
   "execution_count": 10,
   "id": "b98160d2-2f2d-48fa-b7fb-fb7b531053af",
   "metadata": {},
   "outputs": [
    {
     "name": "stdout",
     "output_type": "stream",
     "text": [
      "<NumpyExtensionArray>\n",
      "[[<IntegerArray>\n",
      "[1, 1, 0]\n",
      "Length: 3, dtype: Int64, <IntegerArray>\n",
      "[1, -1, 0]\n",
      "Length: 3, dtype: Int64, <IntegerArray>\n",
      "[1, 1, 1]\n",
      "Length: 3, dtype: Int64]]\n",
      "Length: 1, dtype: object\n",
      "<NumpyExtensionArray>\n",
      "[[<FloatingArray>\n",
      "[1.0, 0.0, 0.0]\n",
      "Length: 3, dtype: Float64, <FloatingArray>\n",
      "[0.0, 1.0, 0.0]\n",
      "Length: 3, dtype: Float64, <IntegerArray>\n",
      "[0, 0, 1]\n",
      "Length: 3, dtype: Int64]]\n",
      "Length: 1, dtype: object\n"
     ]
    }
   ],
   "source": [
    "import pandas as np\n",
    "\n",
    "A=np.array([1,1,0])\n",
    "B=np.array([1,-1,0])\n",
    "C=np.array([1,1,1])\n",
    "\n",
    "E=np.array([[A,B,C]])\n",
    "\n",
    "print(E)\n",
    "\n",
    "\n",
    "TA= (B+A)/2\n",
    "\n",
    "TB=-(B-A)/2\n",
    "\n",
    "TC=(C-A)\n",
    "\n",
    "TE=np.array([[TA,TB,TC]])\n",
    "\n",
    "print(TE)"
   ]
  },
  {
   "cell_type": "code",
   "execution_count": null,
   "id": "a2c9c8d3-e13f-4c2e-b714-d4984cf80399",
   "metadata": {},
   "outputs": [],
   "source": []
  }
 ],
 "metadata": {
  "kernelspec": {
   "display_name": "Python 3 (ipykernel)",
   "language": "python",
   "name": "python3"
  },
  "language_info": {
   "codemirror_mode": {
    "name": "ipython",
    "version": 3
   },
   "file_extension": ".py",
   "mimetype": "text/x-python",
   "name": "python",
   "nbconvert_exporter": "python",
   "pygments_lexer": "ipython3",
   "version": "3.12.4"
  }
 },
 "nbformat": 4,
 "nbformat_minor": 5
}
