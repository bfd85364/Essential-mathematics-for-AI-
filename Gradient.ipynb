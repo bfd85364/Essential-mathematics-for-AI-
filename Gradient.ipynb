{
 "cells": [
  {
   "cell_type": "code",
   "execution_count": 5,
   "id": "587a7a11-e83e-45bf-8fa8-49a2efe70721",
   "metadata": {},
   "outputs": [
    {
     "data": {
      "text/latex": [
       "$\\displaystyle \\left[\\begin{matrix}2 x - 2 & 2 y - 2\\end{matrix}\\right]$"
      ],
      "text/plain": [
       "Matrix([[2*x - 2, 2*y - 2]])"
      ]
     },
     "execution_count": 5,
     "metadata": {},
     "output_type": "execute_result"
    }
   ],
   "source": [
    "import numpy as np\n",
    "from sympy import init_printing, Symbol, Matrix\n",
    "#Input the bivarite(x,y)\n",
    "x,y=Symbol('x'),Symbol('y')\n",
    "#Input the function f : f(x,y)\n",
    "f = Matrix([(x-1)**2+(y-1)**2])\n",
    "#Compute the gradient\n",
    "Grad_f= f.jacobian([x,y])\n",
    "Grad_f"
   ]
  }
 ],
 "metadata": {
  "kernelspec": {
   "display_name": "Python 3 (ipykernel)",
   "language": "python",
   "name": "python3"
  },
  "language_info": {
   "codemirror_mode": {
    "name": "ipython",
    "version": 3
   },
   "file_extension": ".py",
   "mimetype": "text/x-python",
   "name": "python",
   "nbconvert_exporter": "python",
   "pygments_lexer": "ipython3",
   "version": "3.12.4"
  }
 },
 "nbformat": 4,
 "nbformat_minor": 5
}
