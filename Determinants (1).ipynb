{
 "cells": [
  {
   "cell_type": "code",
   "execution_count": 2,
   "id": "62e310a9-14f1-4803-8da6-4f7be713a4ff",
   "metadata": {},
   "outputs": [
    {
     "name": "stdout",
     "output_type": "stream",
     "text": [
      "Compute the following determinant efficiently:\n",
      "[[ 2  0  1  2  0]\n",
      " [ 2 -1  0  1  1]\n",
      " [ 0  1  2  1  2]\n",
      " [-2  0  2 -1  2]\n",
      " [ 2  0  0  1  1]]\n",
      "the determinat is:\n",
      "6.000000000000003\n"
     ]
    }
   ],
   "source": [
    "import numpy as np\n",
    "import pandas as pd\n",
    "\n",
    "A=np.array([[2,0,1,2,0],\n",
    "            [2,-1,0,1,1],\n",
    "            [0,1,2,1,2],\n",
    "            [-2,0,2,-1,2],\n",
    "            [2,0,0,1,1]])\n",
    "print(\"Compute the following determinant efficiently:\")\n",
    "print(A)\n",
    "\n",
    "print(\"the determinat is:\")\n",
    "\n",
    "Det_A=np.linalg.det(A)\n",
    "\n",
    "print(Det_A)"
   ]
  },
  {
   "cell_type": "code",
   "execution_count": 16,
   "id": "cdb8b415-92a2-49db-a89a-28780e7b1a27",
   "metadata": {},
   "outputs": [
    {
     "name": "stdout",
     "output_type": "stream",
     "text": [
      "this is the Eigen value:\n",
      "[1.+0.j 1.+0.j]\n",
      "\n",
      "\n",
      "this is the Eigen vector: \n",
      "[[ 0.00000000e+00  2.22044605e-16]\n",
      " [ 1.00000000e+00 -1.00000000e+00]]\n",
      "Eigenspace for eigenvalue (1+0j):\n",
      "[0. 1.]\n",
      "Eigenspace for eigenvalue (1+0j):\n",
      "[ 2.22044605e-16 -1.00000000e+00]\n"
     ]
    }
   ],
   "source": [
    "import numpy as np\n",
    "from scipy.linalg import eig\n",
    "\n",
    "eigenvalues, eigenvectors = eig(A)\n",
    "\n",
    "A = np.array([[1, 0], [1, 1]])\n",
    "\n",
    "print(\"this is the Eigen value:\")\n",
    "print(eigenvalues)\n",
    "print(\"\\n\")\n",
    "print(\"this is the Eigen vector: \")\n",
    "print(eigenvectors)\n",
    "\n",
    "for i in range(len(eigenvalues)):\n",
    "    print(f\"Eigenspace for eigenvalue {eigenvalues[i]}:\")\n",
    "    eig_space = eigenvectors[:, i]\n",
    "    print(eig_space)"
   ]
  },
  {
   "cell_type": "code",
   "execution_count": null,
   "id": "4bdc8dc5-d3a4-4564-a3f0-455a0cabce6c",
   "metadata": {},
   "outputs": [],
   "source": []
  }
 ],
 "metadata": {
  "kernelspec": {
   "display_name": "Python 3 (ipykernel)",
   "language": "python",
   "name": "python3"
  },
  "language_info": {
   "codemirror_mode": {
    "name": "ipython",
    "version": 3
   },
   "file_extension": ".py",
   "mimetype": "text/x-python",
   "name": "python",
   "nbconvert_exporter": "python",
   "pygments_lexer": "ipython3",
   "version": "3.12.4"
  }
 },
 "nbformat": 4,
 "nbformat_minor": 5
}
